{
 "cells": [
  {
   "cell_type": "code",
   "execution_count": 23,
   "metadata": {},
   "outputs": [],
   "source": [
    "# coding: utf-8\n",
    "\n",
    "import pandas as pd\n",
    "import numpy as np\n",
    "import matplotlib.pyplot as plt\n",
    "import seaborn as sns\n",
    "sns.set(style='darkgrid')\n",
    "plt.rcParams['font.sans-serif'] = 'SimHei' \n",
    "plt.rcParams['axes.unicode_minus'] = False   \n",
    "import warnings\n",
    "warnings.filterwarnings(\"ignore\")"
   ]
  },
  {
   "cell_type": "code",
   "execution_count": 24,
   "metadata": {},
   "outputs": [
    {
     "name": "stdout",
     "output_type": "stream",
     "text": [
      "    性别  age  CA199    CEA    AFP    PLT   WBC  APTT   TT   FIB    D2     TP  \\\n",
      "0    男   61  93.52   2.79   1.10  223.0  7.41  33.5  18.6  2.0  0.08  65.17   \n",
      "1    女   67   7.24  13.11   1.10  264.0  5.11  35.8  13.8  2.9  0.36  64.55   \n",
      "2    男   66  87.81  17.43   2.78  340.0  5.34  30.0  14.4  3.0  0.24  69.33   \n",
      "3    男   34   8.97  31.73   3.17  279.0  7.61  29.8  14.4  2.9  0.22  77.53   \n",
      "4    男   65   5.10   6.10   3.20  209.0  6.00  32.8  15.8  2.8  0.15  58.14   \n",
      "..  ..  ...    ...    ...    ...    ...   ...   ...   ...  ...   ...    ...   \n",
      "290  男   59   4.67   1.22  11.73  201.0  5.78  31.2  15.7  2.6  0.26  68.48   \n",
      "291  男   38   3.12   2.89   4.07  372.0  4.07  30.4  14.6  4.2  0.72  77.01   \n",
      "292  男   71   2.79   9.82   7.81   96.0  5.07  27.2  16.3  2.4  0.99  72.28   \n",
      "293  男   59   1.15   1.33   2.35  504.0  5.89  38.2  15.5  4.2  1.33  69.52   \n",
      "294  男   14  18.22   1.22   1.33  274.0  4.86  29.9  17.4  2.4  0.40  62.51   \n",
      "\n",
      "       Alb    Glb   IBIL    AST      UA   BUN 是否结直肠癌  \n",
      "0    39.37  25.80  19.82  12.85  488.32  5.99      是  \n",
      "1    39.47  25.08   8.02  21.78  326.57  3.72      是  \n",
      "2    41.71  27.62   2.57  27.13  387.10  3.64      是  \n",
      "3    45.70  31.83   2.14  26.41  430.00  4.50      是  \n",
      "4    37.44  20.70   8.40  19.29  372.55  5.21      是  \n",
      "..     ...    ...    ...    ...     ...   ...    ...  \n",
      "290  41.44  27.04  11.52  27.51  626.68  7.78      否  \n",
      "291  45.75  31.26   5.87  18.70  463.85  6.78      否  \n",
      "292  45.14  27.14   8.09  30.52  369.89  3.37      否  \n",
      "293  36.97  32.55   6.35  24.97  334.61  5.04      否  \n",
      "294  37.27  25.24   8.20  10.73  631.96  3.51      否  \n",
      "\n",
      "[295 rows x 19 columns]\n",
      "    性别  age  CA199   CEA   AFP  PLT   WBC  APTT   TT    FIB    D2    TP   Alb  \\\n",
      "0    男   47   6.33  3.26  4.05  161  5.39  27.1  16.1  3.24  0.22  71.9  46.4   \n",
      "1    男   55   2.28  2.11  4.76  262  6.47  27.9  16.7  2.70  0.17  69.3  47.8   \n",
      "2    男   72   1.30  3.17  1.92  187  8.40  32.3  16.5  4.69  2.89  60.1  44.3   \n",
      "3    男   53  10.26  2.91  4.26  142  3.63  29.9  15.7  5.22  3.67  57.8  34.5   \n",
      "4    男   82  26.15  5.00  1.79  142  7.17  33.2  18.9  4.24  0.30  75.0  39.4   \n",
      "..  ..  ...    ...   ...   ...  ...   ...   ...   ...   ...   ...   ...   ...   \n",
      "187  男   64  16.89  3.57  2.70  226  4.57  30.7  18.4  4.80  0.52  62.1  41.2   \n",
      "188  女   51   8.70  1.44  5.01  249  5.17  33.9  17.7  3.58  0.23  77.3  46.9   \n",
      "189  男   53   7.83  4.19  2.75  331  5.29  41.5  18.2  4.91  0.23  65.1  38.0   \n",
      "190  男   74   6.24  1.57  3.72  229  6.79  33.6  18.0  2.41  0.23  62.6  38.8   \n",
      "191  女   61  24.98  3.12  4.22  287  8.11  38.9  19.4  3.72  0.44  72.4  45.7   \n",
      "\n",
      "      Glb  IBIL   AST   UA    BUN 是否结直肠癌  \n",
      "0    25.5   8.4  30.6  320   7.80      是  \n",
      "1    21.5  10.5  14.3  293   3.40      是  \n",
      "2    15.8   6.8  13.0  283  15.60      是  \n",
      "3    23.3  54.9  11.0  122   3.40      是  \n",
      "4    35.6  11.6  16.7  319   7.20      是  \n",
      "..    ...   ...   ...  ...    ...    ...  \n",
      "187  20.9  10.9  26.0  561   7.24      否  \n",
      "188  30.4   8.0  15.0  324   3.30      否  \n",
      "189  27.1   3.7  76.4  377   5.10      否  \n",
      "190  23.8   2.9  17.1  350   7.10      否  \n",
      "191  26.7   7.0  16.5  331   5.00      否  \n",
      "\n",
      "[192 rows x 19 columns]\n"
     ]
    }
   ],
   "source": [
    "# 导入训练集和测试集数据\n",
    "data1 = pd.read_excel('训练集.xlsx',engine='openpyxl')\n",
    "data2 = pd.read_excel('测试集.xlsx',engine='openpyxl')\n",
    "print(data1)\n",
    "print(data2)\n"
   ]
  },
  {
   "cell_type": "code",
   "execution_count": 25,
   "metadata": {},
   "outputs": [
    {
     "name": "stdout",
     "output_type": "stream",
     "text": [
      "<class 'pandas.core.frame.DataFrame'>\n",
      "RangeIndex: 295 entries, 0 to 294\n",
      "Data columns (total 19 columns):\n",
      " #   Column  Non-Null Count  Dtype  \n",
      "---  ------  --------------  -----  \n",
      " 0   性别      295 non-null    object \n",
      " 1   age     295 non-null    int64  \n",
      " 2   CA199   295 non-null    float64\n",
      " 3   CEA     295 non-null    float64\n",
      " 4   AFP     295 non-null    float64\n",
      " 5   PLT     295 non-null    float64\n",
      " 6   WBC     295 non-null    float64\n",
      " 7   APTT    295 non-null    float64\n",
      " 8   TT      295 non-null    float64\n",
      " 9   FIB     295 non-null    float64\n",
      " 10  D2      295 non-null    float64\n",
      " 11  TP      295 non-null    float64\n",
      " 12  Alb     295 non-null    float64\n",
      " 13  Glb     295 non-null    float64\n",
      " 14  IBIL    295 non-null    float64\n",
      " 15  AST     295 non-null    float64\n",
      " 16  UA      295 non-null    float64\n",
      " 17  BUN     295 non-null    float64\n",
      " 18  是否结直肠癌  295 non-null    object \n",
      "dtypes: float64(16), int64(1), object(2)\n",
      "memory usage: 43.9+ KB\n",
      "<class 'pandas.core.frame.DataFrame'>\n",
      "RangeIndex: 192 entries, 0 to 191\n",
      "Data columns (total 19 columns):\n",
      " #   Column  Non-Null Count  Dtype  \n",
      "---  ------  --------------  -----  \n",
      " 0   性别      192 non-null    object \n",
      " 1   age     192 non-null    int64  \n",
      " 2   CA199   192 non-null    float64\n",
      " 3   CEA     192 non-null    float64\n",
      " 4   AFP     192 non-null    float64\n",
      " 5   PLT     192 non-null    int64  \n",
      " 6   WBC     192 non-null    float64\n",
      " 7   APTT    192 non-null    float64\n",
      " 8   TT      192 non-null    float64\n",
      " 9   FIB     192 non-null    float64\n",
      " 10  D2      192 non-null    float64\n",
      " 11  TP      192 non-null    float64\n",
      " 12  Alb     192 non-null    float64\n",
      " 13  Glb     192 non-null    float64\n",
      " 14  IBIL    192 non-null    float64\n",
      " 15  AST     192 non-null    float64\n",
      " 16  UA      192 non-null    int64  \n",
      " 17  BUN     192 non-null    float64\n",
      " 18  是否结直肠癌  192 non-null    object \n",
      "dtypes: float64(14), int64(3), object(2)\n",
      "memory usage: 28.6+ KB\n"
     ]
    }
   ],
   "source": [
    "data1.info()\n",
    "data2.info()"
   ]
  },
  {
   "cell_type": "code",
   "execution_count": 26,
   "metadata": {},
   "outputs": [
    {
     "name": "stdout",
     "output_type": "stream",
     "text": [
      "              age        CA199         CEA         AFP         PLT  \\\n",
      "count  295.000000   295.000000  295.000000  295.000000  295.000000   \n",
      "mean    58.044068    37.914068   10.001458    3.305559  272.317627   \n",
      "std     14.063562   166.052459   24.230763    3.766615   98.750089   \n",
      "min     14.000000     1.000000    0.550000    0.390000   14.700000   \n",
      "25%     50.000000     3.510000    1.855000    2.000000  210.500000   \n",
      "50%     59.000000     8.450000    3.430000    2.750000  255.000000   \n",
      "75%     67.000000    16.255000    6.850000    3.700000  315.500000   \n",
      "max     89.000000  2029.430000  251.120000   58.600000  678.000000   \n",
      "\n",
      "              WBC        APTT         TT          FIB          D2          TP  \\\n",
      "count  295.000000  295.000000  295.000000  295.000000  295.000000  295.000000   \n",
      "mean     6.794373   30.795864   14.608746    3.557085    0.661153   67.479119   \n",
      "std      2.299154    3.875480    2.261956    1.062883    0.842351    6.509156   \n",
      "min      1.500000    1.330000   11.100000    1.800000    0.020000   41.640000   \n",
      "25%      5.410000   28.850000   13.600000    2.915000    0.250000   63.265000   \n",
      "50%      6.460000   30.800000   14.400000    3.300000    0.390000   67.350000   \n",
      "75%      7.875000   33.000000   15.100000    3.800000    0.705000   72.120000   \n",
      "max     21.180000   46.000000   36.500000   10.600000    6.030000   92.720000   \n",
      "\n",
      "              Alb         Glb        IBIL         AST           UA         BUN  \n",
      "count  295.000000  295.000000  295.000000  295.000000   295.000000  295.000000  \n",
      "mean    37.788475   29.690644    9.085627   23.352742   363.227661    5.302881  \n",
      "std      4.847548    4.460223    4.427494   25.073203   155.202899    4.025442  \n",
      "min     14.250000   20.210000    1.090000    5.260000   109.740000    1.890000  \n",
      "25%     35.250000   26.845000    6.405000   14.705000   279.690000    3.815000  \n",
      "50%     38.120000   29.150000    8.410000   18.510000   351.690000    4.720000  \n",
      "75%     41.215000   32.575000   10.990000   23.575000   415.960000    5.800000  \n",
      "max     51.640000   45.030000   33.380000  307.320000  2235.350000   61.670000  \n"
     ]
    },
    {
     "data": {
      "image/png": "[encoded data removed]",
      "text/plain": [
       "<Figure size 800x600 with 1 Axes>"
      ]
     },
     "metadata": {},
     "output_type": "display_data"
    }
   ],
   "source": [
    "#  训练集的描述性统计\n",
    "\n",
    "data1.select_dtypes('object').describe()\n",
    "#  是否发病的直方图\n",
    "fig,axes = plt.subplots(figsize = (8,6))\n",
    "sns.countplot(x = '是否结直肠癌',data = data1)\n",
    "print(data1.describe())\n",
    "data1['是否结直肠癌'] = data1['是否结直肠癌'].replace(\"是\",1).replace(\"否\",0)\n",
    "data1['是否结直肠癌'] = data1['是否结直肠癌'].astype('int64')"
   ]
  },
  {
   "cell_type": "code",
   "execution_count": 27,
   "metadata": {},
   "outputs": [
    {
     "name": "stdout",
     "output_type": "stream",
     "text": [
      "              age       CA199         CEA         AFP         PLT         WBC  \\\n",
      "count  192.000000  192.000000  192.000000  192.000000  192.000000  192.000000   \n",
      "mean    56.578125   15.139792    5.185677    5.577708  248.088542    6.496302   \n",
      "std     15.055713   29.965206    7.376873   26.126311   99.065357    2.511183   \n",
      "min     14.000000    0.860000    0.510000    0.550000   66.000000    2.040000   \n",
      "25%     49.000000    2.650000    1.437500    1.870000  189.750000    4.785000   \n",
      "50%     57.000000    6.285000    2.815000    2.610000  234.500000    5.950000   \n",
      "75%     68.000000   14.895000    5.160000    3.985000  293.250000    7.345000   \n",
      "max     87.000000  279.810000   68.270000  340.480000  645.000000   18.850000   \n",
      "\n",
      "             APTT         TT          FIB          D2          TP         Alb  \\\n",
      "count  192.000000  192.000000  192.000000  192.000000  192.000000  192.000000   \n",
      "mean    35.450521   18.273958    3.589948    0.697969   68.895573   41.373958   \n",
      "std      5.959945    1.493984    1.133228    0.846800    7.345301    5.317978   \n",
      "min     22.700000   15.400000    1.740000    0.020000   42.300000   18.700000   \n",
      "25%     32.850000   17.500000    2.900000    0.220000   64.600000   38.775000   \n",
      "50%     35.350000   18.100000    3.300000    0.440000   69.900000   41.750000   \n",
      "75%     37.825000   18.925000    3.800000    0.807500   73.900000   45.400000   \n",
      "max     91.700000   24.800000    8.500000    4.910000  102.800000   51.900000   \n",
      "\n",
      "              Glb        IBIL          AST          UA         BUN  \n",
      "count  192.000000  192.000000   192.000000  192.000000  192.000000  \n",
      "mean    27.836458   10.940729    37.463021  350.994792    5.467917  \n",
      "std      6.114023   11.083293    97.347190  103.503168    3.410895  \n",
      "min     15.800000    0.400000     5.500000  122.000000    1.890000  \n",
      "25%     24.800000    5.600000    17.000000  287.750000    3.817500  \n",
      "50%     27.200000    8.250000    20.450000  338.000000    4.850000  \n",
      "75%     29.900000   11.850000    27.100000  403.000000    5.910000  \n",
      "max     81.800000   82.200000  1050.600000  878.000000   32.500000  \n"
     ]
    },
    {
     "data": {
      "image/png": "[encoded data removed]",
      "text/plain": [
       "<Figure size 800x600 with 1 Axes>"
      ]
     },
     "metadata": {},
     "output_type": "display_data"
    }
   ],
   "source": [
    "#  测试集的描述性统计\n",
    "\n",
    "data2.select_dtypes('object').describe()\n",
    "#  是否发病的直方图\n",
    "fig,axes = plt.subplots(figsize = (8,6))\n",
    "sns.countplot(x = '是否结直肠癌',data = data2)\n",
    "print(data2.describe())\n",
    "data2['是否结直肠癌'] = data2['是否结直肠癌'].replace(\"是\",1).replace(\"否\",0)\n",
    "data2['是否结直肠癌'] = data2['是否结直肠癌'].astype('int64')"
   ]
  },
  {
   "cell_type": "code",
   "execution_count": 28,
   "metadata": {},
   "outputs": [],
   "source": [
    "data1['属性'] = '训练集'\n",
    "data2['属性'] = '测试集'\n",
    "data =pd.concat([data1,data2],axis=0)\n",
    "\n",
    "# 数据类型转换\n",
    "dummies_性别 =pd.get_dummies(data['性别'],prefix='性别')\n",
    "data_new =pd.concat([data, dummies_性别],axis=1)\n",
    "data_new.drop(['性别']  ,axis=1,inplace=True)"
   ]
  },
  {
   "cell_type": "code",
   "execution_count": 29,
   "metadata": {},
   "outputs": [
    {
     "name": "stdout",
     "output_type": "stream",
     "text": [
      "<class 'pandas.core.frame.DataFrame'>\n",
      "Index: 295 entries, 0 to 294\n",
      "Data columns (total 20 columns):\n",
      " #   Column  Non-Null Count  Dtype  \n",
      "---  ------  --------------  -----  \n",
      " 0   age     295 non-null    int64  \n",
      " 1   CA199   295 non-null    float64\n",
      " 2   CEA     295 non-null    float64\n",
      " 3   AFP     295 non-null    float64\n",
      " 4   PLT     295 non-null    float64\n",
      " 5   WBC     295 non-null    float64\n",
      " 6   APTT    295 non-null    float64\n",
      " 7   TT      295 non-null    float64\n",
      " 8   FIB     295 non-null    float64\n",
      " 9   D2      295 non-null    float64\n",
      " 10  TP      295 non-null    float64\n",
      " 11  Alb     295 non-null    float64\n",
      " 12  Glb     295 non-null    float64\n",
      " 13  IBIL    295 non-null    float64\n",
      " 14  AST     295 non-null    float64\n",
      " 15  UA      295 non-null    float64\n",
      " 16  BUN     295 non-null    float64\n",
      " 17  是否结直肠癌  295 non-null    int64  \n",
      " 18  性别_女    295 non-null    bool   \n",
      " 19  性别_男    295 non-null    bool   \n",
      "dtypes: bool(2), float64(16), int64(2)\n",
      "memory usage: 44.4 KB\n",
      "<class 'pandas.core.frame.DataFrame'>\n",
      "Index: 192 entries, 0 to 191\n",
      "Data columns (total 20 columns):\n",
      " #   Column  Non-Null Count  Dtype  \n",
      "---  ------  --------------  -----  \n",
      " 0   age     192 non-null    int64  \n",
      " 1   CA199   192 non-null    float64\n",
      " 2   CEA     192 non-null    float64\n",
      " 3   AFP     192 non-null    float64\n",
      " 4   PLT     192 non-null    float64\n",
      " 5   WBC     192 non-null    float64\n",
      " 6   APTT    192 non-null    float64\n",
      " 7   TT      192 non-null    float64\n",
      " 8   FIB     192 non-null    float64\n",
      " 9   D2      192 non-null    float64\n",
      " 10  TP      192 non-null    float64\n",
      " 11  Alb     192 non-null    float64\n",
      " 12  Glb     192 non-null    float64\n",
      " 13  IBIL    192 non-null    float64\n",
      " 14  AST     192 non-null    float64\n",
      " 15  UA      192 non-null    float64\n",
      " 16  BUN     192 non-null    float64\n",
      " 17  是否结直肠癌  192 non-null    int64  \n",
      " 18  性别_女    192 non-null    bool   \n",
      " 19  性别_男    192 non-null    bool   \n",
      "dtypes: bool(2), float64(16), int64(2)\n",
      "memory usage: 28.9 KB\n"
     ]
    }
   ],
   "source": [
    "data_new1 = data_new[data_new['属性']== \"训练集\"]\n",
    "data_new1 = data_new1.drop(['属性'],axis=1)\n",
    "data_new2 = data_new[data_new['属性']== \"测试集\"]\n",
    "data_new2 = data_new2.drop(['属性'],axis=1)\n",
    "data_new1.info()\n",
    "data_new2.info()"
   ]
  },
  {
   "cell_type": "code",
   "execution_count": 30,
   "metadata": {},
   "outputs": [],
   "source": [
    "#  特征和标签划分；\n",
    "x_train = data_new1.drop(['是否结直肠癌'],axis=1)\n",
    "y_train = data_new1['是否结直肠癌']\n",
    "\n",
    "x_test = data_new2.drop(['是否结直肠癌'],axis=1)\n",
    "y_test = data_new2['是否结直肠癌']"
   ]
  },
  {
   "cell_type": "code",
   "execution_count": 31,
   "metadata": {},
   "outputs": [],
   "source": [
    "# 归一化处理\n",
    "# from sklearn.preprocessing import StandardScaler\n",
    "# ss = StandardScaler()\n",
    "# x_train = ss.fit_transform(x_train)\n",
    "# x_test = ss.transform(x_test)"
   ]
  },
  {
   "cell_type": "code",
   "execution_count": 32,
   "metadata": {
    "scrolled": false
   },
   "outputs": [],
   "source": [
    "\n",
    "#### 随机森林建模 #####\n",
    "from sklearn.ensemble import  RandomForestClassifier\n",
    "RFmodel = RandomForestClassifier(max_depth=10, max_features=1.0, min_samples_leaf=4, min_samples_split=10, n_estimators=100)\n",
    "\n",
    "RFmodel.fit(x_train,y_train)\n",
    "train_RFpred = RFmodel.predict(x_train)\n",
    "test_RFpred = RFmodel.predict(x_test)\n"
   ]
  },
  {
   "cell_type": "code",
   "execution_count": 33,
   "metadata": {},
   "outputs": [
    {
     "name": "stdout",
     "output_type": "stream",
     "text": [
      "RF_train\n",
      "confusion_matrix\n",
      " [[ 84   9]\n",
      " [  3 199]]\n",
      "classification report\n",
      "               precision    recall  f1-score   support\n",
      "\n",
      "           0       0.97      0.90      0.93        93\n",
      "           1       0.96      0.99      0.97       202\n",
      "\n",
      "    accuracy                           0.96       295\n",
      "   macro avg       0.96      0.94      0.95       295\n",
      "weighted avg       0.96      0.96      0.96       295\n",
      "\n",
      "RF_test\n",
      "confusion_matrix\n",
      " [[63 37]\n",
      " [15 77]]\n",
      "classification report\n",
      "               precision    recall  f1-score   support\n",
      "\n",
      "           0       0.81      0.63      0.71       100\n",
      "           1       0.68      0.84      0.75        92\n",
      "\n",
      "    accuracy                           0.73       192\n",
      "   macro avg       0.74      0.73      0.73       192\n",
      "weighted avg       0.74      0.73      0.73       192\n",
      "\n"
     ]
    }
   ],
   "source": [
    "# 混淆矩阵\n",
    "import matplotlib.pyplot as plt\n",
    "from sklearn.metrics import confusion_matrix,classification_report,roc_curve, auc\n",
    "print('RF_train\\nconfusion_matrix\\n',confusion_matrix(y_true=y_train, y_pred= train_RFpred ))\n",
    "print('classification report\\n',classification_report(y_true=y_train, y_pred= train_RFpred))\n",
    "print('RF_test\\nconfusion_matrix\\n', confusion_matrix(y_true=y_test, y_pred= test_RFpred ))\n",
    "print('classification report\\n',classification_report(y_true=y_test, y_pred= test_RFpred ))"
   ]
  },
  {
   "cell_type": "code",
   "execution_count": 35,
   "metadata": {},
   "outputs": [
    {
     "data": {
      "image/png": "[encoded data removed]",
      "text/plain": [
       "<Figure size 640x480 with 1 Axes>"
      ]
     },
     "metadata": {},
     "output_type": "display_data"
    }
   ],
   "source": [
    "\n",
    "# 测试集拟合的ROC曲线\n",
    "y_predRFprob1 = RFmodel.predict_proba(x_test)[:, 1]\n",
    "fpr1, tpr1, threshold1 = roc_curve(y_test, y_predRFprob1)\n",
    "RFroc_auc = auc(fpr1, tpr1)\n",
    "\n",
    "\n",
    "plt.plot(fpr1, tpr1, linewidth=2, label='ROC1 curve (area = %0.3f)' % RFroc_auc)  \n",
    "plt.plot([0, 1], [0, 1], lw=2, linestyle='--')\n",
    "plt.xlabel('False Positive Rate')  \n",
    "plt.ylabel('True Positive Rate')  \n",
    "plt.ylim(0, 1.05) \n",
    "plt.xlim(0, 1.05)  \n",
    "plt.legend(loc=4)  \n",
    "plt.rcParams['axes.facecolor'] = 'white'\n",
    "for spine in plt.gca().spines.values():\n",
    "        spine.set_edgecolor('black')  \n",
    "        spine.set_linewidth(0.3)  \n",
    "plt.show()\n"
   ]
  },
  {
   "cell_type": "code",
   "execution_count": 37,
   "metadata": {},
   "outputs": [],
   "source": [
    "# 对测试集数据进行预测\n",
    "yf_pred_RFproba = RFmodel.predict_proba(x_test)[:, 1]\n",
    "\n",
    "# 将预测结果添加到DataFrame中\n",
    "data2['是患者的概率_RF'] = yf_pred_RFproba\n",
    "\n",
    "\n",
    "\n",
    "# 将DataFrame保存为Excel文件\n",
    "data2.to_excel('../测试集预测结果.xlsx', index=False)\n"
   ]
  },
  {
   "cell_type": "code",
   "execution_count": null,
   "metadata": {},
   "outputs": [],
   "source": []
  },
  {
   "cell_type": "code",
   "execution_count": null,
   "metadata": {},
   "outputs": [],
   "source": []
  },
  {
   "cell_type": "code",
   "execution_count": null,
   "metadata": {},
   "outputs": [],
   "source": []
  }
 ],
 "metadata": {
  "kernelspec": {
   "display_name": "Python 3 (ipykernel)",
   "language": "python",
   "name": "python3"
  },
  "language_info": {
   "codemirror_mode": {
    "name": "ipython",
    "version": 3
   },
   "file_extension": ".py",
   "mimetype": "text/x-python",
   "name": "python",
   "nbconvert_exporter": "python",
   "pygments_lexer": "ipython3",
   "version": "3.11.5"
  },
  "toc": {
   "base_numbering": 1,
   "nav_menu": {},
   "number_sections": true,
   "sideBar": true,
   "skip_h1_title": false,
   "title_cell": "Table of Contents",
   "title_sidebar": "Contents",
   "toc_cell": false,
   "toc_position": {},
   "toc_section_display": true,
   "toc_window_display": false
  }
 },
 "nbformat": 4,
 "nbformat_minor": 4
}
